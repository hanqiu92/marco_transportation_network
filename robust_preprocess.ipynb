{
 "cells": [
  {
   "cell_type": "code",
   "execution_count": 1,
   "metadata": {
    "collapsed": true
   },
   "outputs": [],
   "source": [
    "%matplotlib inline\n",
    "\n",
    "import numpy as np\n",
    "import math\n",
    "from gurobipy import *\n",
    "import pickle\n",
    "import matplotlib.pyplot as plt\n",
    "import time"
   ]
  },
  {
   "cell_type": "markdown",
   "metadata": {},
   "source": [
    "First preprocess the data and take the max obs for each OD"
   ]
  },
  {
   "cell_type": "code",
   "execution_count": 2,
   "metadata": {
    "collapsed": true,
    "scrolled": false
   },
   "outputs": [],
   "source": [
    "od_dist = pickle.load(open( \"od_dist.p\", \"rb\" ))\n",
    "record = pickle.load(open( \"data/record_total.p\", \"rb\" ))\n",
    "\n",
    "od_pair_raw = set()\n",
    "for record_daily in record.values():\n",
    "    od_pair_raw = od_pair_raw | set(record_daily.keys())\n",
    "od_pair_raw = list(od_pair_raw)\n",
    "\n",
    "od_pair = []\n",
    "for od in od_pair_raw:\n",
    "    if -1 not in od:\n",
    "        od_pair += [od]\n",
    "od_pair = sorted(od_pair)\n",
    "\n",
    "od_ind = {}\n",
    "for i,od in enumerate(od_pair):\n",
    "    od_ind[od] = i\n",
    "od_matrix = np.zeros((len(record),len(od_pair)))\n",
    "\n",
    "for i,record_daily in enumerate(record.values()):\n",
    "    for od,value in record_daily.iteritems():\n",
    "        j = od_ind.get(od,-1)\n",
    "        if j >= 0:\n",
    "            od_matrix[i,j] += value\n",
    "        \n",
    "od_matrix = np.max(od_matrix,axis=0)\n",
    "\n",
    "od_input = {}\n",
    "for i,od in enumerate(od_pair):\n",
    "    od_input[od] = od_matrix[i]"
   ]
  },
  {
   "cell_type": "markdown",
   "metadata": {},
   "source": [
    "Investigate the distribution to decide which OD are the most important and should be kept"
   ]
  },
  {
   "cell_type": "code",
   "execution_count": 3,
   "metadata": {
    "scrolled": false
   },
   "outputs": [
    {
     "data": {
      "text/plain": [
       "(array([  102.,   172.,  1612.,  4242.,  5246.,  7754.,  7394.,  3784.,\n",
       "          996.,    78.]),\n",
       " array([  1.09861229,   2.28889666,   3.47918102,   4.66946539,\n",
       "          5.85974976,   7.05003413,   8.2403185 ,   9.43060286,\n",
       "         10.62088723,  11.8111716 ,  13.00145597]),\n",
       " <a list of 10 Patch objects>)"
      ]
     },
     "execution_count": 3,
     "metadata": {},
     "output_type": "execute_result"
    },
    {
     "data": {
      "image/png": "[encoded data removed]",
      "text/plain": [
       "<matplotlib.figure.Figure at 0x104957bd0>"
      ]
     },
     "metadata": {},
     "output_type": "display_data"
    }
   ],
   "source": [
    "plt.hist(np.log(od_input.values()))"
   ]
  },
  {
   "cell_type": "code",
   "execution_count": null,
   "metadata": {
    "collapsed": true
   },
   "outputs": [],
   "source": []
  }
 ],
 "metadata": {
  "kernelspec": {
   "display_name": "Python 2",
   "language": "python",
   "name": "python2"
  },
  "language_info": {
   "codemirror_mode": {
    "name": "ipython",
    "version": 2
   },
   "file_extension": ".py",
   "mimetype": "text/x-python",
   "name": "python",
   "nbconvert_exporter": "python",
   "pygments_lexer": "ipython2",
   "version": "2.7.12"
  }
 },
 "nbformat": 4,
 "nbformat_minor": 1
}
