{
 "cells": [
  {
   "cell_type": "code",
   "execution_count": 1,
   "metadata": {
    "collapsed": true
   },
   "outputs": [],
   "source": [
    "import numpy as np\n",
    "import math\n",
    "from gurobipy import *\n",
    "import pickle"
   ]
  },
  {
   "cell_type": "code",
   "execution_count": 2,
   "metadata": {
    "collapsed": true
   },
   "outputs": [],
   "source": [
    "od_dist = pickle.load(open( \"od_dist.p\", \"rb\" ))\n",
    "record_agg_year = pickle.load(open( \"data/record_agg_year.p\", \"rb\" ))\n",
    "\n",
    "od_list = sorted(record_agg_year.keys())\n",
    "d = []\n",
    "l = []\n",
    "for item in od_list:\n",
    "    if item in od_dist:\n",
    "        d.append(record_agg_year[item])\n",
    "        l.append(od_dist[item])\n",
    "n = len(d)\n",
    "max_value = sum(d)\n",
    "c_cost = 100.0"
   ]
  },
  {
   "cell_type": "code",
   "execution_count": null,
   "metadata": {
    "collapsed": false
   },
   "outputs": [
    {
     "name": "stdout",
     "output_type": "stream",
     "text": [
      "Parameter OutputFlag unchanged\n",
      "   Value: 1  Min: 0  Max: 1  Default: 1\n"
     ]
    }
   ],
   "source": [
    "m = Model(\"Static\")\n",
    "m.setParam(\"OutputFlag\",1)\n",
    "\n",
    "c = {}\n",
    "y = {}\n",
    "s = {}\n",
    "for i in xrange(n):\n",
    "    c[i] = m.addVar(lb=0.0)\n",
    "    y[i] = m.addVar(vtype = GRB.BINARY)\n",
    "    for j in xrange(n):\n",
    "        s[i*n+j] = m.addVar(lb=0.0)\n",
    "\n",
    "m.update()\n",
    "\n",
    "for i in xrange(n):\n",
    "    m.addConstr(max_value * y[i] >= c[i],'bound_'+str(i))\n",
    "    m.addConstr(quicksum(s[i*n+j] for j in xrange(n)) <= c[i],'demand_'+str(i))\n",
    "    m.addConstr(quicksum(s[j*n+i] for j in xrange(n)) >= d[i],'capacity_'+str(i))\n",
    "\n",
    "m.setObjective(quicksum(l[i] * (c[i] + y[i] * c_cost) for i in xrange(n)),GRB.MINIMIZE)\n",
    "\n",
    "m.update()"
   ]
  },
  {
   "cell_type": "code",
   "execution_count": null,
   "metadata": {
    "collapsed": true
   },
   "outputs": [],
   "source": [
    "m.optimize()"
   ]
  },
  {
   "cell_type": "code",
   "execution_count": null,
   "metadata": {
    "collapsed": true
   },
   "outputs": [],
   "source": []
  }
 ],
 "metadata": {
  "kernelspec": {
   "display_name": "Python 2",
   "language": "python",
   "name": "python2"
  },
  "language_info": {
   "codemirror_mode": {
    "name": "ipython",
    "version": 2
   },
   "file_extension": ".py",
   "mimetype": "text/x-python",
   "name": "python",
   "nbconvert_exporter": "python",
   "pygments_lexer": "ipython2",
   "version": "2.7.12"
  }
 },
 "nbformat": 4,
 "nbformat_minor": 0
}
